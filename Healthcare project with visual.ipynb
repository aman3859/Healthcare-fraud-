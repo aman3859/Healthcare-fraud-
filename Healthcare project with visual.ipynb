{
 "cells": [
  {
   "cell_type": "code",
   "execution_count": 1,
   "id": "2f72fb3d",
   "metadata": {},
   "outputs": [],
   "source": [
    "# Healthcare Fraud Detection Project\n",
    "# Covers: Descriptive, Predictive, and Prescriptive Triggers with Visualizations\n",
    "\n",
    "import pandas as pd\n",
    "import numpy as np\n",
    "import matplotlib.pyplot as plt\n",
    "import seaborn as sns\n",
    "from sklearn.ensemble import RandomForestClassifier\n",
    "from sklearn.model_selection import train_test_split\n",
    "from sklearn.metrics import classification_report, confusion_matrix, roc_auc_score, roc_curve"
   ]
  },
  {
   "cell_type": "code",
   "execution_count": 2,
   "id": "3504ed1f",
   "metadata": {},
   "outputs": [
    {
     "name": "stdout",
     "output_type": "stream",
     "text": [
      "<class 'pandas.core.frame.DataFrame'>\n",
      "RangeIndex: 100 entries, 0 to 99\n",
      "Data columns (total 8 columns):\n",
      " #   Column                   Non-Null Count  Dtype         \n",
      "---  ------                   --------------  -----         \n",
      " 0   claim_id                 100 non-null    int64         \n",
      " 1   hospital_id              100 non-null    object        \n",
      " 2   patient_id               100 non-null    int32         \n",
      " 3   admission_date           100 non-null    datetime64[ns]\n",
      " 4   claim_amount             100 non-null    float64       \n",
      " 5   procedure_code           100 non-null    object        \n",
      " 6   distance_to_hospital_km  100 non-null    float64       \n",
      " 7   fraud_label              100 non-null    int64         \n",
      "dtypes: datetime64[ns](1), float64(2), int32(1), int64(2), object(2)\n",
      "memory usage: 6.0+ KB\n"
     ]
    }
   ],
   "source": [
    "# ------------------ Step 1: Load Mock Data ------------------\n",
    "# Simulated PMJAY claims data\n",
    "data = pd.DataFrame({\n",
    "    'claim_id': range(1, 101),\n",
    "    'hospital_id': np.random.choice(['H001', 'H002', 'H003'], 100),\n",
    "    'patient_id': np.random.randint(1000, 1100, 100),\n",
    "    'admission_date': pd.date_range('2023-01-01', periods=100, freq='D'),\n",
    "    'claim_amount': np.random.normal(20000, 5000, 100).round(2),\n",
    "    'procedure_code': np.random.choice(['PROC_A', 'PROC_B', 'PROC_C'], 100),\n",
    "    'distance_to_hospital_km': np.random.uniform(1, 100, 100),\n",
    "    'fraud_label': np.random.choice([0, 1], 100, p=[0.85, 0.15])  # 0 = Legit, 1 = Fraud\n",
    "    })\n",
    "\n",
    "data.info()"
   ]
  },
  {
   "cell_type": "code",
   "execution_count": 3,
   "id": "7fe23199",
   "metadata": {},
   "outputs": [
    {
     "name": "stdout",
     "output_type": "stream",
     "text": [
      "\n",
      "Descriptive Alerts:\n",
      "Empty DataFrame\n",
      "Columns: [hospital_id, admission_date, claim_count, claim_id, claim_amount]\n",
      "Index: []\n"
     ]
    }
   ],
   "source": [
    "# ------------------ Step 2: Descriptive Triggers ------------------\n",
    "# Rule 1: High number of claims in a single day by same hospital\n",
    "rule1 = data.groupby(['hospital_id', 'admission_date']).size().reset_index(name='claim_count')\n",
    "descriptive_alerts = rule1[rule1['claim_count'] > 3]  # Threshold set to 3\n",
    "\n",
    "# Rule 2: High claim amount\n",
    "rule2_alerts = data[data['claim_amount'] > 40000]  # Static threshold\n",
    "\n",
    "# Combine descriptive alerts\n",
    "print(\"\\nDescriptive Alerts:\")\n",
    "print(pd.concat([descriptive_alerts, rule2_alerts[['claim_id', 'claim_amount']]], axis=0, ignore_index=True))\n",
    "\n"
   ]
  },
  {
   "cell_type": "code",
   "execution_count": 4,
   "id": "7d5ce922",
   "metadata": {},
   "outputs": [
    {
     "name": "stdout",
     "output_type": "stream",
     "text": [
      "\n",
      "Predictive Model Performance:\n",
      "[[19  0]\n",
      " [ 1  0]]\n",
      "              precision    recall  f1-score   support\n",
      "\n",
      "           0       0.95      1.00      0.97        19\n",
      "           1       0.00      0.00      0.00         1\n",
      "\n",
      "    accuracy                           0.95        20\n",
      "   macro avg       0.47      0.50      0.49        20\n",
      "weighted avg       0.90      0.95      0.93        20\n",
      "\n",
      "ROC AUC Score: 0.7894736842105263\n"
     ]
    },
    {
     "name": "stderr",
     "output_type": "stream",
     "text": [
      "c:\\Users\\amans\\AppData\\Local\\Programs\\Python\\Python313\\Lib\\site-packages\\sklearn\\metrics\\_classification.py:1706: UndefinedMetricWarning: Precision is ill-defined and being set to 0.0 in labels with no predicted samples. Use `zero_division` parameter to control this behavior.\n",
      "  _warn_prf(average, modifier, f\"{metric.capitalize()} is\", result.shape[0])\n",
      "c:\\Users\\amans\\AppData\\Local\\Programs\\Python\\Python313\\Lib\\site-packages\\sklearn\\metrics\\_classification.py:1706: UndefinedMetricWarning: Precision is ill-defined and being set to 0.0 in labels with no predicted samples. Use `zero_division` parameter to control this behavior.\n",
      "  _warn_prf(average, modifier, f\"{metric.capitalize()} is\", result.shape[0])\n",
      "c:\\Users\\amans\\AppData\\Local\\Programs\\Python\\Python313\\Lib\\site-packages\\sklearn\\metrics\\_classification.py:1706: UndefinedMetricWarning: Precision is ill-defined and being set to 0.0 in labels with no predicted samples. Use `zero_division` parameter to control this behavior.\n",
      "  _warn_prf(average, modifier, f\"{metric.capitalize()} is\", result.shape[0])\n"
     ]
    },
    {
     "data": {
      "image/png": "[encoded data removed]",
      "text/plain": [
       "<Figure size 800x500 with 1 Axes>"
      ]
     },
     "metadata": {},
     "output_type": "display_data"
    }
   ],
   "source": [
    "# ------------------ Step 3: Predictive Modeling ------------------\n",
    "# Feature Engineering\n",
    "features = data[['claim_amount', 'distance_to_hospital_km']]\n",
    "labels = data['fraud_label']\n",
    "\n",
    "X_train, X_test, y_train, y_test = train_test_split(features, labels, test_size=0.2, random_state=42)\n",
    "\n",
    "model = RandomForestClassifier(n_estimators=100, random_state=42)\n",
    "model.fit(X_train, y_train)\n",
    "predictions = model.predict(X_test)\n",
    "pred_probs = model.predict_proba(X_test)[:, 1]\n",
    "\n",
    "print(\"\\nPredictive Model Performance:\")\n",
    "print(confusion_matrix(y_test, predictions))\n",
    "print(classification_report(y_test, predictions))\n",
    "print(\"ROC AUC Score:\", roc_auc_score(y_test, pred_probs))\n",
    "\n",
    "# ROC Curve\n",
    "fpr, tpr, _ = roc_curve(y_test, pred_probs)\n",
    "plt.figure(figsize=(8, 5))\n",
    "plt.plot(fpr, tpr, label='Random Forest')\n",
    "plt.plot([0, 1], [0, 1], 'k--')\n",
    "plt.xlabel('False Positive Rate')\n",
    "plt.ylabel('True Positive Rate')\n",
    "plt.title('ROC Curve')\n",
    "plt.legend()\n",
    "plt.grid(True)\n",
    "plt.show()\n",
    "\n",
    "# Add fraud risk score to full dataset\n",
    "risk_scores = model.predict_proba(features)[:, 1]\n",
    "data['fraud_risk_score'] = risk_scores"
   ]
  },
  {
   "cell_type": "code",
   "execution_count": 5,
   "id": "632af6bb",
   "metadata": {},
   "outputs": [
    {
     "name": "stdout",
     "output_type": "stream",
     "text": [
      "\n",
      "Top 10 Prescriptive Priority Cases:\n",
      "    claim_id  fraud_risk_score  claim_amount  priority_score\n",
      "78        79              0.67      30304.94      20304.3098\n",
      "86        87              0.62      28146.16      17450.6192\n",
      "68        69              0.63      27137.95      17096.9085\n",
      "50        51              0.67      25442.59      17046.5353\n",
      "42        43              0.66      25226.33      16649.3778\n",
      "85        86              0.64      18929.36      12114.7904\n",
      "15        16              0.60      19215.54      11529.3240\n",
      "64        65              0.71      15605.49      11079.8979\n",
      "52        53              0.62      16996.92      10538.0904\n",
      "33        34              0.37      27359.87      10123.1519\n"
     ]
    }
   ],
   "source": [
    "# ------------------ Step 4: Prescriptive Prioritization ------------------\n",
    "# Create a priority score = fraud risk × claim amount\n",
    "data['priority_score'] = data['fraud_risk_score'] * data['claim_amount']\n",
    "\n",
    "# Assume limited capacity: investigate top 10 only\n",
    "top_cases = data.sort_values('priority_score', ascending=False).head(10)\n",
    "\n",
    "print(\"\\nTop 10 Prescriptive Priority Cases:\")\n",
    "print(top_cases[['claim_id', 'fraud_risk_score', 'claim_amount', 'priority_score']])"
   ]
  },
  {
   "cell_type": "code",
   "execution_count": 6,
   "id": "4be1b9bf",
   "metadata": {},
   "outputs": [
    {
     "data": {
      "image/png": "[encoded data removed]",
      "text/plain": [
       "<Figure size 800x400 with 1 Axes>"
      ]
     },
     "metadata": {},
     "output_type": "display_data"
    },
    {
     "data": {
      "image/png": "[encoded data removed]",
      "text/plain": [
       "<Figure size 800x500 with 1 Axes>"
      ]
     },
     "metadata": {},
     "output_type": "display_data"
    },
    {
     "data": {
      "image/png": "[encoded data removed]",
      "text/plain": [
       "<Figure size 600x400 with 1 Axes>"
      ]
     },
     "metadata": {},
     "output_type": "display_data"
    }
   ],
   "source": [
    "# ------------------ Step 5: Visualization ------------------\n",
    "# Fraud Risk Distribution\n",
    "plt.figure(figsize=(8, 4))\n",
    "sns.histplot(data['fraud_risk_score'], bins=20, kde=True)\n",
    "plt.title('Distribution of Fraud Risk Scores')\n",
    "plt.xlabel('Fraud Risk Score')\n",
    "plt.grid(True)\n",
    "plt.show()\n",
    "\n",
    "# Priority Score vs Claim Amount\n",
    "plt.figure(figsize=(8, 5))\n",
    "sns.scatterplot(data=data, x='claim_amount', y='priority_score', hue='fraud_label')\n",
    "plt.title('Priority Score vs Claim Amount by Fraud Label')\n",
    "plt.grid(True)\n",
    "plt.show()\n",
    "\n",
    "# Fraud Rate by Hospital\n",
    "fraud_rate = data.groupby('hospital_id')['fraud_label'].mean().reset_index()\n",
    "plt.figure(figsize=(6, 4))\n",
    "sns.barplot(data=fraud_rate, x='hospital_id', y='fraud_label')\n",
    "plt.title('Fraud Rate by Hospital')\n",
    "plt.ylabel('Fraud Rate')\n",
    "plt.grid(True)\n",
    "plt.show()\n"
   ]
  },
  {
   "cell_type": "code",
   "execution_count": 9,
   "id": "35240f91",
   "metadata": {},
   "outputs": [
    {
     "name": "stdout",
     "output_type": "stream",
     "text": [
      "<class 'pandas.core.frame.DataFrame'>\n",
      "RangeIndex: 100 entries, 0 to 99\n",
      "Data columns (total 10 columns):\n",
      " #   Column                   Non-Null Count  Dtype         \n",
      "---  ------                   --------------  -----         \n",
      " 0   claim_id                 100 non-null    int64         \n",
      " 1   hospital_id              100 non-null    object        \n",
      " 2   patient_id               100 non-null    int32         \n",
      " 3   admission_date           100 non-null    datetime64[ns]\n",
      " 4   claim_amount             100 non-null    float64       \n",
      " 5   procedure_code           100 non-null    object        \n",
      " 6   distance_to_hospital_km  100 non-null    float64       \n",
      " 7   fraud_label              100 non-null    int64         \n",
      " 8   fraud_risk_score         100 non-null    float64       \n",
      " 9   priority_score           100 non-null    float64       \n",
      "dtypes: datetime64[ns](1), float64(4), int32(1), int64(2), object(2)\n",
      "memory usage: 7.6+ KB\n"
     ]
    }
   ],
   "source": [
    "data.info()"
   ]
  },
  {
   "cell_type": "code",
   "execution_count": null,
   "id": "9994f8a8",
   "metadata": {},
   "outputs": [
    {
     "name": "stdout",
     "output_type": "stream",
     "text": [
      "Requirement already satisfied: nbformat in c:\\users\\amans\\appdata\\local\\programs\\python\\python313\\lib\\site-packages (5.10.4)\n",
      "Requirement already satisfied: fastjsonschema>=2.15 in c:\\users\\amans\\appdata\\local\\programs\\python\\python313\\lib\\site-packages (from nbformat) (2.21.1)\n",
      "Requirement already satisfied: jsonschema>=2.6 in c:\\users\\amans\\appdata\\local\\programs\\python\\python313\\lib\\site-packages (from nbformat) (4.24.0)\n",
      "Requirement already satisfied: jupyter-core!=5.0.*,>=4.12 in c:\\users\\amans\\appdata\\roaming\\python\\python313\\site-packages (from nbformat) (5.7.2)\n",
      "Requirement already satisfied: traitlets>=5.1 in c:\\users\\amans\\appdata\\roaming\\python\\python313\\site-packages (from nbformat) (5.14.3)\n",
      "Requirement already satisfied: attrs>=22.2.0 in c:\\users\\amans\\appdata\\local\\programs\\python\\python313\\lib\\site-packages (from jsonschema>=2.6->nbformat) (25.3.0)\n",
      "Requirement already satisfied: jsonschema-specifications>=2023.03.6 in c:\\users\\amans\\appdata\\local\\programs\\python\\python313\\lib\\site-packages (from jsonschema>=2.6->nbformat) (2025.4.1)\n",
      "Requirement already satisfied: referencing>=0.28.4 in c:\\users\\amans\\appdata\\local\\programs\\python\\python313\\lib\\site-packages (from jsonschema>=2.6->nbformat) (0.36.2)\n",
      "Requirement already satisfied: rpds-py>=0.7.1 in c:\\users\\amans\\appdata\\local\\programs\\python\\python313\\lib\\site-packages (from jsonschema>=2.6->nbformat) (0.25.1)\n",
      "Requirement already satisfied: platformdirs>=2.5 in c:\\users\\amans\\appdata\\roaming\\python\\python313\\site-packages (from jupyter-core!=5.0.*,>=4.12->nbformat) (4.3.8)\n",
      "Requirement already satisfied: pywin32>=300 in c:\\users\\amans\\appdata\\roaming\\python\\python313\\site-packages (from jupyter-core!=5.0.*,>=4.12->nbformat) (310)\n",
      "Note: you may need to restart the kernel to use updated packages.\n"
     ]
    },
    {
     "data": {
      "application/vnd.plotly.v1+json": {
       "config": {
        "plotlyServerURL": "https://plot.ly"
       },
       "data": [
        {
         "alignmentgroup": "True",
         "hovertemplate": "fraud_risk_score=0.22<br>hospital_id=%{x}<br>claim_amount=%{y}<extra></extra>",
         "legendgroup": "0.22",
         "marker": {
          "color": "#00cc96"
         },
         "name": "0.22",
         "notched": false,
         "offsetgroup": "0.22",
         "orientation": "v",
         "showlegend": true,
         "type": "box",
         "x": [
          "H003"
         ],
         "x0": " ",
         "xaxis": "x",
         "y": {
          "bdata": "w/UoXE9/20A=",
          "dtype": "f8"
         },
         "y0": " ",
         "yaxis": "y"
        },
        {
         "alignmentgroup": "True",
         "hovertemplate": "fraud_risk_score=0.16<br>hospital_id=%{x}<br>claim_amount=%{y}<extra></extra>",
         "legendgroup": "0.16",
         "marker": {
          "color": "#ab63fa"
         },
         "name": "0.16",
         "notched": false,
         "offsetgroup": "0.16",
         "orientation": "v",
         "showlegend": true,
         "type": "box",
         "x": [
          "H002",
          "H003"
         ],
         "x0": " ",
         "xaxis": "x",
         "y": {
          "bdata": "zczMzKx53ECamZmZ6UreQA==",
          "dtype": "f8"
         },
         "y0": " ",
         "yaxis": "y"
        },
        {
         "alignmentgroup": "True",
         "hovertemplate": "fraud_risk_score=0.0<br>hospital_id=%{x}<br>claim_amount=%{y}<extra></extra>",
         "legendgroup": "0.0",
         "marker": {
          "color": "#FFA15A"
         },
         "name": "0.0",
         "notched": false,
         "offsetgroup": "0.0",
         "orientation": "v",
         "showlegend": true,
         "type": "box",
         "x": [
          "H002",
          "H002",
          "H002",
          "H001",
          "H003",
          "H001",
          "H003",
          "H001",
          "H001",
          "H002",
          "H003",
          "H002",
          "H003",
          "H003",
          "H001",
          "H003",
          "H001",
          "H002",
          "H002",
          "H001",
          "H002",
          "H003",
          "H003",
          "H001",
          "H002",
          "H002",
          "H002",
          "H003",
          "H001",
          "H003",
          "H003",
          "H003"
         ],
         "x0": " ",
         "xaxis": "x",
         "y": {
          "bdata": "CtejcN1g1ECF61G4HkXUQClcj8KFe9NAAAAAABBq1EAfhetRuJHVQLgehetxy9ZAUrgehZu11EC4HoXr8R3NQDMzMzPjqtVA4XoUrgeozkA9CtejIJbUQGZmZmb2YNZAXI/C9Ygw1UDD9ShcbyjPQM3MzMwMerNA7FG4HgWzz0AAAAAAUG7WQOF6FK6XPtZAZmZmZsYY0ECkcD0KN7DEQHsUrkfRFNVAZmZmZqZr1kCuR+F6VC/UQIXrUbje7spAZmZmZqbyz0AK16NwLQ/QQArXo3DtUNBAAAAAAODM1ECkcD0Kl97PQClcj8I1sc5AuB6F6zGw1kB7FK5HYXqzQA==",
          "dtype": "f8"
         },
         "y0": " ",
         "yaxis": "y"
        },
        {
         "alignmentgroup": "True",
         "hovertemplate": "fraud_risk_score=0.14<br>hospital_id=%{x}<br>claim_amount=%{y}<extra></extra>",
         "legendgroup": "0.14",
         "marker": {
          "color": "#19d3f3"
         },
         "name": "0.14",
         "notched": false,
         "offsetgroup": "0.14",
         "orientation": "v",
         "showlegend": true,
         "type": "box",
         "x": [
          "H001"
         ],
         "x0": " ",
         "xaxis": "x",
         "y": {
          "bdata": "ZmZmZmb2zUA=",
          "dtype": "f8"
         },
         "y0": " ",
         "yaxis": "y"
        },
        {
         "alignmentgroup": "True",
         "hovertemplate": "fraud_risk_score=0.08<br>hospital_id=%{x}<br>claim_amount=%{y}<extra></extra>",
         "legendgroup": "0.08",
         "marker": {
          "color": "#FF6692"
         },
         "name": "0.08",
         "notched": false,
         "offsetgroup": "0.08",
         "orientation": "v",
         "showlegend": true,
         "type": "box",
         "x": [
          "H002",
          "H001",
          "H002",
          "H001"
         ],
         "x0": " ",
         "xaxis": "x",
         "y": {
          "bdata": "H4XrUbg9zUBI4XoUzubKQM3MzMyMltZAj8L1KIy200A=",
          "dtype": "f8"
         },
         "y0": " ",
         "yaxis": "y"
        },
        {
         "alignmentgroup": "True",
         "hovertemplate": "fraud_risk_score=0.02<br>hospital_id=%{x}<br>claim_amount=%{y}<extra></extra>",
         "legendgroup": "0.02",
         "marker": {
          "color": "#B6E880"
         },
         "name": "0.02",
         "notched": false,
         "offsetgroup": "0.02",
         "orientation": "v",
         "showlegend": true,
         "type": "box",
         "x": [
          "H002",
          "H001",
          "H001",
          "H002",
          "H003",
          "H001",
          "H003"
         ],
         "x0": " ",
         "xaxis": "x",
         "y": {
          "bdata": "AAAAAPA21EAK16NwLd3RQClcj8J1ttNASOF6FA4d0EAfhetR6FrUQD0K16MgZtdAXI/C9Ui91kA=",
          "dtype": "f8"
         },
         "y0": " ",
         "yaxis": "y"
        },
        {
         "alignmentgroup": "True",
         "hovertemplate": "fraud_risk_score=0.06<br>hospital_id=%{x}<br>claim_amount=%{y}<extra></extra>",
         "legendgroup": "0.06",
         "marker": {
          "color": "#FF97FF"
         },
         "name": "0.06",
         "notched": false,
         "offsetgroup": "0.06",
         "orientation": "v",
         "showlegend": true,
         "type": "box",
         "x": [
          "H003",
          "H003",
          "H001",
          "H002",
          "H002"
         ],
         "x0": " ",
         "xaxis": "x",
         "y": {
          "bdata": "SOF6FD633kDhehSu1+jSQBSuR+FK89ZAw/UoXA9m0EAUrkfhmsPIQA==",
          "dtype": "f8"
         },
         "y0": " ",
         "yaxis": "y"
        },
        {
         "alignmentgroup": "True",
         "hovertemplate": "fraud_risk_score=0.04<br>hospital_id=%{x}<br>claim_amount=%{y}<extra></extra>",
         "legendgroup": "0.04",
         "marker": {
          "color": "#FECB52"
         },
         "name": "0.04",
         "notched": false,
         "offsetgroup": "0.04",
         "orientation": "v",
         "showlegend": true,
         "type": "box",
         "x": [
          "H003",
          "H002",
          "H001",
          "H002",
          "H002",
          "H003"
         ],
         "x0": " ",
         "xaxis": "x",
         "y": {
          "bdata": "SOF6FG6b1UBSuB6FWzDbQK5H4Xpk7NpAcT0K17MQ20CamZmZ2W3ZQHsUrkdRgNpA",
          "dtype": "f8"
         },
         "y0": " ",
         "yaxis": "y"
        },
        {
         "alignmentgroup": "True",
         "hovertemplate": "fraud_risk_score=0.41<br>hospital_id=%{x}<br>claim_amount=%{y}<extra></extra>",
         "legendgroup": "0.41",
         "marker": {
          "color": "#636efa"
         },
         "name": "0.41",
         "notched": false,
         "offsetgroup": "0.41",
         "orientation": "v",
         "showlegend": true,
         "type": "box",
         "x": [
          "H001",
          "H003"
         ],
         "x0": " ",
         "xaxis": "x",
         "y": {
          "bdata": "4XoUroc/yUC4HoXrQeDSQA==",
          "dtype": "f8"
         },
         "y0": " ",
         "yaxis": "y"
        },
        {
         "alignmentgroup": "True",
         "hovertemplate": "fraud_risk_score=0.09<br>hospital_id=%{x}<br>claim_amount=%{y}<extra></extra>",
         "legendgroup": "0.09",
         "marker": {
          "color": "#EF553B"
         },
         "name": "0.09",
         "notched": false,
         "offsetgroup": "0.09",
         "orientation": "v",
         "showlegend": true,
         "type": "box",
         "x": [
          "H002",
          "H002",
          "H003",
          "H001"
         ],
         "x0": " ",
         "xaxis": "x",
         "y": {
          "bdata": "w/UoXO82yUAK16Nw7aDZQLgeheuxbNFA4XoUrie10kA=",
          "dtype": "f8"
         },
         "y0": " ",
         "yaxis": "y"
        },
        {
         "alignmentgroup": "True",
         "hovertemplate": "fraud_risk_score=0.05<br>hospital_id=%{x}<br>claim_amount=%{y}<extra></extra>",
         "legendgroup": "0.05",
         "marker": {
          "color": "#00cc96"
         },
         "name": "0.05",
         "notched": false,
         "offsetgroup": "0.05",
         "orientation": "v",
         "showlegend": true,
         "type": "box",
         "x": [
          "H001",
          "H003",
          "H003",
          "H001",
          "H001"
         ],
         "x0": " ",
         "xaxis": "x",
         "y": {
          "bdata": "FK5H4fqKzkDsUbgeRePfQBSuR+Hax85Aw/UoXJ/o10AAAAAAkO/ZQA==",
          "dtype": "f8"
         },
         "y0": " ",
         "yaxis": "y"
        },
        {
         "alignmentgroup": "True",
         "hovertemplate": "fraud_risk_score=0.6<br>hospital_id=%{x}<br>claim_amount=%{y}<extra></extra>",
         "legendgroup": "0.6",
         "marker": {
          "color": "#ab63fa"
         },
         "name": "0.6",
         "notched": false,
         "offsetgroup": "0.6",
         "orientation": "v",
         "showlegend": true,
         "type": "box",
         "x": [
          "H003"
         ],
         "x0": " ",
         "xaxis": "x",
         "y": {
          "bdata": "9ihcj+LD0kA=",
          "dtype": "f8"
         },
         "y0": " ",
         "yaxis": "y"
        },
        {
         "alignmentgroup": "True",
         "hovertemplate": "fraud_risk_score=0.07<br>hospital_id=%{x}<br>claim_amount=%{y}<extra></extra>",
         "legendgroup": "0.07",
         "marker": {
          "color": "#FFA15A"
         },
         "name": "0.07",
         "notched": false,
         "offsetgroup": "0.07",
         "orientation": "v",
         "showlegend": true,
         "type": "box",
         "x": [
          "H001",
          "H003",
          "H003"
         ],
         "x0": " ",
         "xaxis": "x",
         "y": {
          "bdata": "PQrXoyB710B7FK5HoXbSQGZmZmbGRctA",
          "dtype": "f8"
         },
         "y0": " ",
         "yaxis": "y"
        },
        {
         "alignmentgroup": "True",
         "hovertemplate": "fraud_risk_score=0.03<br>hospital_id=%{x}<br>claim_amount=%{y}<extra></extra>",
         "legendgroup": "0.03",
         "marker": {
          "color": "#19d3f3"
         },
         "name": "0.03",
         "notched": false,
         "offsetgroup": "0.03",
         "orientation": "v",
         "showlegend": true,
         "type": "box",
         "x": [
          "H003",
          "H002",
          "H002",
          "H001",
          "H001"
         ],
         "x0": " ",
         "xaxis": "x",
         "y": {
          "bdata": "16NwPbp/1kA9CtejsH7RQLgehevR7MxAw/UoXE+k2UBxPQrXgxnUQA==",
          "dtype": "f8"
         },
         "y0": " ",
         "yaxis": "y"
        },
        {
         "alignmentgroup": "True",
         "hovertemplate": "fraud_risk_score=0.01<br>hospital_id=%{x}<br>claim_amount=%{y}<extra></extra>",
         "legendgroup": "0.01",
         "marker": {
          "color": "#FF6692"
         },
         "name": "0.01",
         "notched": false,
         "offsetgroup": "0.01",
         "orientation": "v",
         "showlegend": true,
         "type": "box",
         "x": [
          "H003",
          "H002",
          "H003"
         ],
         "x0": " ",
         "xaxis": "x",
         "y": {
          "bdata": "PQrXo5CX10BmZmZmBhfTQBSuR+GaIMxA",
          "dtype": "f8"
         },
         "y0": " ",
         "yaxis": "y"
        },
        {
         "alignmentgroup": "True",
         "hovertemplate": "fraud_risk_score=0.1<br>hospital_id=%{x}<br>claim_amount=%{y}<extra></extra>",
         "legendgroup": "0.1",
         "marker": {
          "color": "#B6E880"
         },
         "name": "0.1",
         "notched": false,
         "offsetgroup": "0.1",
         "orientation": "v",
         "showlegend": true,
         "type": "box",
         "x": [
          "H003"
         ],
         "x0": " ",
         "xaxis": "x",
         "y": {
          "bdata": "CtejcB3Wz0A=",
          "dtype": "f8"
         },
         "y0": " ",
         "yaxis": "y"
        },
        {
         "alignmentgroup": "True",
         "hovertemplate": "fraud_risk_score=0.12<br>hospital_id=%{x}<br>claim_amount=%{y}<extra></extra>",
         "legendgroup": "0.12",
         "marker": {
          "color": "#FF97FF"
         },
         "name": "0.12",
         "notched": false,
         "offsetgroup": "0.12",
         "orientation": "v",
         "showlegend": true,
         "type": "box",
         "x": [
          "H003",
          "H003",
          "H003",
          "H001",
          "H001"
         ],
         "x0": " ",
         "xaxis": "x",
         "y": {
          "bdata": "4XoUrpdP00CkcD0K9xXZQJqZmZkJatJAMzMzM4On0kAfhetReBHbQA==",
          "dtype": "f8"
         },
         "y0": " ",
         "yaxis": "y"
        },
        {
         "alignmentgroup": "True",
         "hovertemplate": "fraud_risk_score=0.37<br>hospital_id=%{x}<br>claim_amount=%{y}<extra></extra>",
         "legendgroup": "0.37",
         "marker": {
          "color": "#FECB52"
         },
         "name": "0.37",
         "notched": false,
         "offsetgroup": "0.37",
         "orientation": "v",
         "showlegend": true,
         "type": "box",
         "x": [
          "H001"
         ],
         "x0": " ",
         "xaxis": "x",
         "y": {
          "bdata": "4XoUrve32kA=",
          "dtype": "f8"
         },
         "y0": " ",
         "yaxis": "y"
        },
        {
         "alignmentgroup": "True",
         "hovertemplate": "fraud_risk_score=0.66<br>hospital_id=%{x}<br>claim_amount=%{y}<extra></extra>",
         "legendgroup": "0.66",
         "marker": {
          "color": "#636efa"
         },
         "name": "0.66",
         "notched": false,
         "offsetgroup": "0.66",
         "orientation": "v",
         "showlegend": true,
         "type": "box",
         "x": [
          "H002"
         ],
         "x0": " ",
         "xaxis": "x",
         "y": {
          "bdata": "7FG4HpWi2EA=",
          "dtype": "f8"
         },
         "y0": " ",
         "yaxis": "y"
        },
        {
         "alignmentgroup": "True",
         "hovertemplate": "fraud_risk_score=0.13<br>hospital_id=%{x}<br>claim_amount=%{y}<extra></extra>",
         "legendgroup": "0.13",
         "marker": {
          "color": "#EF553B"
         },
         "name": "0.13",
         "notched": false,
         "offsetgroup": "0.13",
         "orientation": "v",
         "showlegend": true,
         "type": "box",
         "x": [
          "H003"
         ],
         "x0": " ",
         "xaxis": "x",
         "y": {
          "bdata": "9ihcj9IH00A=",
          "dtype": "f8"
         },
         "y0": " ",
         "yaxis": "y"
        },
        {
         "alignmentgroup": "True",
         "hovertemplate": "fraud_risk_score=0.67<br>hospital_id=%{x}<br>claim_amount=%{y}<extra></extra>",
         "legendgroup": "0.67",
         "marker": {
          "color": "#00cc96"
         },
         "name": "0.67",
         "notched": false,
         "offsetgroup": "0.67",
         "orientation": "v",
         "showlegend": true,
         "type": "box",
         "x": [
          "H002",
          "H003"
         ],
         "x0": " ",
         "xaxis": "x",
         "y": {
          "bdata": "KVyPwqXY2ECPwvUoPJjdQA==",
          "dtype": "f8"
         },
         "y0": " ",
         "yaxis": "y"
        },
        {
         "alignmentgroup": "True",
         "hovertemplate": "fraud_risk_score=0.62<br>hospital_id=%{x}<br>claim_amount=%{y}<extra></extra>",
         "legendgroup": "0.62",
         "marker": {
          "color": "#ab63fa"
         },
         "name": "0.62",
         "notched": false,
         "offsetgroup": "0.62",
         "orientation": "v",
         "showlegend": true,
         "type": "box",
         "x": [
          "H002",
          "H003"
         ],
         "x0": " ",
         "xaxis": "x",
         "y": {
          "bdata": "FK5H4TqZ0EDXo3A9inzbQA==",
          "dtype": "f8"
         },
         "y0": " ",
         "yaxis": "y"
        },
        {
         "alignmentgroup": "True",
         "hovertemplate": "fraud_risk_score=0.71<br>hospital_id=%{x}<br>claim_amount=%{y}<extra></extra>",
         "legendgroup": "0.71",
         "marker": {
          "color": "#FFA15A"
         },
         "name": "0.71",
         "notched": false,
         "offsetgroup": "0.71",
         "orientation": "v",
         "showlegend": true,
         "type": "box",
         "x": [
          "H002"
         ],
         "x0": " ",
         "xaxis": "x",
         "y": {
          "bdata": "hetRuL56zkA=",
          "dtype": "f8"
         },
         "y0": " ",
         "yaxis": "y"
        },
        {
         "alignmentgroup": "True",
         "hovertemplate": "fraud_risk_score=0.63<br>hospital_id=%{x}<br>claim_amount=%{y}<extra></extra>",
         "legendgroup": "0.63",
         "marker": {
          "color": "#19d3f3"
         },
         "name": "0.63",
         "notched": false,
         "offsetgroup": "0.63",
         "orientation": "v",
         "showlegend": true,
         "type": "box",
         "x": [
          "H002"
         ],
         "x0": " ",
         "xaxis": "x",
         "y": {
          "bdata": "zczMzHyA2kA=",
          "dtype": "f8"
         },
         "y0": " ",
         "yaxis": "y"
        },
        {
         "alignmentgroup": "True",
         "hovertemplate": "fraud_risk_score=0.42<br>hospital_id=%{x}<br>claim_amount=%{y}<extra></extra>",
         "legendgroup": "0.42",
         "marker": {
          "color": "#FF6692"
         },
         "name": "0.42",
         "notched": false,
         "offsetgroup": "0.42",
         "orientation": "v",
         "showlegend": true,
         "type": "box",
         "x": [
          "H003"
         ],
         "x0": " ",
         "xaxis": "x",
         "y": {
          "bdata": "rkfhepTptUA=",
          "dtype": "f8"
         },
         "y0": " ",
         "yaxis": "y"
        },
        {
         "alignmentgroup": "True",
         "hovertemplate": "fraud_risk_score=0.25<br>hospital_id=%{x}<br>claim_amount=%{y}<extra></extra>",
         "legendgroup": "0.25",
         "marker": {
          "color": "#B6E880"
         },
         "name": "0.25",
         "notched": false,
         "offsetgroup": "0.25",
         "orientation": "v",
         "showlegend": true,
         "type": "box",
         "x": [
          "H001"
         ],
         "x0": " ",
         "xaxis": "x",
         "y": {
          "bdata": "KVyPwtX10EA=",
          "dtype": "f8"
         },
         "y0": " ",
         "yaxis": "y"
        },
        {
         "alignmentgroup": "True",
         "hovertemplate": "fraud_risk_score=0.64<br>hospital_id=%{x}<br>claim_amount=%{y}<extra></extra>",
         "legendgroup": "0.64",
         "marker": {
          "color": "#FF97FF"
         },
         "name": "0.64",
         "notched": false,
         "offsetgroup": "0.64",
         "orientation": "v",
         "showlegend": true,
         "type": "box",
         "x": [
          "H003"
         ],
         "x0": " ",
         "xaxis": "x",
         "y": {
          "bdata": "pHA9Cld80kA=",
          "dtype": "f8"
         },
         "y0": " ",
         "yaxis": "y"
        },
        {
         "alignmentgroup": "True",
         "hovertemplate": "fraud_risk_score=0.21<br>hospital_id=%{x}<br>claim_amount=%{y}<extra></extra>",
         "legendgroup": "0.21",
         "marker": {
          "color": "#FECB52"
         },
         "name": "0.21",
         "notched": false,
         "offsetgroup": "0.21",
         "orientation": "v",
         "showlegend": true,
         "type": "box",
         "x": [
          "H003"
         ],
         "x0": " ",
         "xaxis": "x",
         "y": {
          "bdata": "H4XrUTjexkA=",
          "dtype": "f8"
         },
         "y0": " ",
         "yaxis": "y"
        }
       ],
       "layout": {
        "boxmode": "group",
        "legend": {
         "title": {
          "text": "fraud_risk_score"
         },
         "tracegroupgap": 0
        },
        "plot_bgcolor": "white",
        "showlegend": true,
        "template": {
         "data": {
          "bar": [
           {
            "error_x": {
             "color": "#2a3f5f"
            },
            "error_y": {
             "color": "#2a3f5f"
            },
            "marker": {
             "line": {
              "color": "#E5ECF6",
              "width": 0.5
             },
             "pattern": {
              "fillmode": "overlay",
              "size": 10,
              "solidity": 0.2
             }
            },
            "type": "bar"
           }
          ],
          "barpolar": [
           {
            "marker": {
             "line": {
              "color": "#E5ECF6",
              "width": 0.5
             },
             "pattern": {
              "fillmode": "overlay",
              "size": 10,
              "solidity": 0.2
             }
            },
            "type": "barpolar"
           }
          ],
          "carpet": [
           {
            "aaxis": {
             "endlinecolor": "#2a3f5f",
             "gridcolor": "white",
             "linecolor": "white",
             "minorgridcolor": "white",
             "startlinecolor": "#2a3f5f"
            },
            "baxis": {
             "endlinecolor": "#2a3f5f",
             "gridcolor": "white",
             "linecolor": "white",
             "minorgridcolor": "white",
             "startlinecolor": "#2a3f5f"
            },
            "type": "carpet"
           }
          ],
          "choropleth": [
           {
            "colorbar": {
             "outlinewidth": 0,
             "ticks": ""
            },
            "type": "choropleth"
           }
          ],
          "contour": [
           {
            "colorbar": {
             "outlinewidth": 0,
             "ticks": ""
            },
            "colorscale": [
             [
              0,
              "#0d0887"
             ],
             [
              0.1111111111111111,
              "#46039f"
             ],
             [
              0.2222222222222222,
              "#7201a8"
             ],
             [
              0.3333333333333333,
              "#9c179e"
             ],
             [
              0.4444444444444444,
              "#bd3786"
             ],
             [
              0.5555555555555556,
              "#d8576b"
             ],
             [
              0.6666666666666666,
              "#ed7953"
             ],
             [
              0.7777777777777778,
              "#fb9f3a"
             ],
             [
              0.8888888888888888,
              "#fdca26"
             ],
             [
              1,
              "#f0f921"
             ]
            ],
            "type": "contour"
           }
          ],
          "contourcarpet": [
           {
            "colorbar": {
             "outlinewidth": 0,
             "ticks": ""
            },
            "type": "contourcarpet"
           }
          ],
          "heatmap": [
           {
            "colorbar": {
             "outlinewidth": 0,
             "ticks": ""
            },
            "colorscale": [
             [
              0,
              "#0d0887"
             ],
             [
              0.1111111111111111,
              "#46039f"
             ],
             [
              0.2222222222222222,
              "#7201a8"
             ],
             [
              0.3333333333333333,
              "#9c179e"
             ],
             [
              0.4444444444444444,
              "#bd3786"
             ],
             [
              0.5555555555555556,
              "#d8576b"
             ],
             [
              0.6666666666666666,
              "#ed7953"
             ],
             [
              0.7777777777777778,
              "#fb9f3a"
             ],
             [
              0.8888888888888888,
              "#fdca26"
             ],
             [
              1,
              "#f0f921"
             ]
            ],
            "type": "heatmap"
           }
          ],
          "histogram": [
           {
            "marker": {
             "pattern": {
              "fillmode": "overlay",
              "size": 10,
              "solidity": 0.2
             }
            },
            "type": "histogram"
           }
          ],
          "histogram2d": [
           {
            "colorbar": {
             "outlinewidth": 0,
             "ticks": ""
            },
            "colorscale": [
             [
              0,
              "#0d0887"
             ],
             [
              0.1111111111111111,
              "#46039f"
             ],
             [
              0.2222222222222222,
              "#7201a8"
             ],
             [
              0.3333333333333333,
              "#9c179e"
             ],
             [
              0.4444444444444444,
              "#bd3786"
             ],
             [
              0.5555555555555556,
              "#d8576b"
             ],
             [
              0.6666666666666666,
              "#ed7953"
             ],
             [
              0.7777777777777778,
              "#fb9f3a"
             ],
             [
              0.8888888888888888,
              "#fdca26"
             ],
             [
              1,
              "#f0f921"
             ]
            ],
            "type": "histogram2d"
           }
          ],
          "histogram2dcontour": [
           {
            "colorbar": {
             "outlinewidth": 0,
             "ticks": ""
            },
            "colorscale": [
             [
              0,
              "#0d0887"
             ],
             [
              0.1111111111111111,
              "#46039f"
             ],
             [
              0.2222222222222222,
              "#7201a8"
             ],
             [
              0.3333333333333333,
              "#9c179e"
             ],
             [
              0.4444444444444444,
              "#bd3786"
             ],
             [
              0.5555555555555556,
              "#d8576b"
             ],
             [
              0.6666666666666666,
              "#ed7953"
             ],
             [
              0.7777777777777778,
              "#fb9f3a"
             ],
             [
              0.8888888888888888,
              "#fdca26"
             ],
             [
              1,
              "#f0f921"
             ]
            ],
            "type": "histogram2dcontour"
           }
          ],
          "mesh3d": [
           {
            "colorbar": {
             "outlinewidth": 0,
             "ticks": ""
            },
            "type": "mesh3d"
           }
          ],
          "parcoords": [
           {
            "line": {
             "colorbar": {
              "outlinewidth": 0,
              "ticks": ""
             }
            },
            "type": "parcoords"
           }
          ],
          "pie": [
           {
            "automargin": true,
            "type": "pie"
           }
          ],
          "scatter": [
           {
            "fillpattern": {
             "fillmode": "overlay",
             "size": 10,
             "solidity": 0.2
            },
            "type": "scatter"
           }
          ],
          "scatter3d": [
           {
            "line": {
             "colorbar": {
              "outlinewidth": 0,
              "ticks": ""
             }
            },
            "marker": {
             "colorbar": {
              "outlinewidth": 0,
              "ticks": ""
             }
            },
            "type": "scatter3d"
           }
          ],
          "scattercarpet": [
           {
            "marker": {
             "colorbar": {
              "outlinewidth": 0,
              "ticks": ""
             }
            },
            "type": "scattercarpet"
           }
          ],
          "scattergeo": [
           {
            "marker": {
             "colorbar": {
              "outlinewidth": 0,
              "ticks": ""
             }
            },
            "type": "scattergeo"
           }
          ],
          "scattergl": [
           {
            "marker": {
             "colorbar": {
              "outlinewidth": 0,
              "ticks": ""
             }
            },
            "type": "scattergl"
           }
          ],
          "scattermap": [
           {
            "marker": {
             "colorbar": {
              "outlinewidth": 0,
              "ticks": ""
             }
            },
            "type": "scattermap"
           }
          ],
          "scattermapbox": [
           {
            "marker": {
             "colorbar": {
              "outlinewidth": 0,
              "ticks": ""
             }
            },
            "type": "scattermapbox"
           }
          ],
          "scatterpolar": [
           {
            "marker": {
             "colorbar": {
              "outlinewidth": 0,
              "ticks": ""
             }
            },
            "type": "scatterpolar"
           }
          ],
          "scatterpolargl": [
           {
            "marker": {
             "colorbar": {
              "outlinewidth": 0,
              "ticks": ""
             }
            },
            "type": "scatterpolargl"
           }
          ],
          "scatterternary": [
           {
            "marker": {
             "colorbar": {
              "outlinewidth": 0,
              "ticks": ""
             }
            },
            "type": "scatterternary"
           }
          ],
          "surface": [
           {
            "colorbar": {
             "outlinewidth": 0,
             "ticks": ""
            },
            "colorscale": [
             [
              0,
              "#0d0887"
             ],
             [
              0.1111111111111111,
              "#46039f"
             ],
             [
              0.2222222222222222,
              "#7201a8"
             ],
             [
              0.3333333333333333,
              "#9c179e"
             ],
             [
              0.4444444444444444,
              "#bd3786"
             ],
             [
              0.5555555555555556,
              "#d8576b"
             ],
             [
              0.6666666666666666,
              "#ed7953"
             ],
             [
              0.7777777777777778,
              "#fb9f3a"
             ],
             [
              0.8888888888888888,
              "#fdca26"
             ],
             [
              1,
              "#f0f921"
             ]
            ],
            "type": "surface"
           }
          ],
          "table": [
           {
            "cells": {
             "fill": {
              "color": "#EBF0F8"
             },
             "line": {
              "color": "white"
             }
            },
            "header": {
             "fill": {
              "color": "#C8D4E3"
             },
             "line": {
              "color": "white"
             }
            },
            "type": "table"
           }
          ]
         },
         "layout": {
          "annotationdefaults": {
           "arrowcolor": "#2a3f5f",
           "arrowhead": 0,
           "arrowwidth": 1
          },
          "autotypenumbers": "strict",
          "coloraxis": {
           "colorbar": {
            "outlinewidth": 0,
            "ticks": ""
           }
          },
          "colorscale": {
           "diverging": [
            [
             0,
             "#8e0152"
            ],
            [
             0.1,
             "#c51b7d"
            ],
            [
             0.2,
             "#de77ae"
            ],
            [
             0.3,
             "#f1b6da"
            ],
            [
             0.4,
             "#fde0ef"
            ],
            [
             0.5,
             "#f7f7f7"
            ],
            [
             0.6,
             "#e6f5d0"
            ],
            [
             0.7,
             "#b8e186"
            ],
            [
             0.8,
             "#7fbc41"
            ],
            [
             0.9,
             "#4d9221"
            ],
            [
             1,
             "#276419"
            ]
           ],
           "sequential": [
            [
             0,
             "#0d0887"
            ],
            [
             0.1111111111111111,
             "#46039f"
            ],
            [
             0.2222222222222222,
             "#7201a8"
            ],
            [
             0.3333333333333333,
             "#9c179e"
            ],
            [
             0.4444444444444444,
             "#bd3786"
            ],
            [
             0.5555555555555556,
             "#d8576b"
            ],
            [
             0.6666666666666666,
             "#ed7953"
            ],
            [
             0.7777777777777778,
             "#fb9f3a"
            ],
            [
             0.8888888888888888,
             "#fdca26"
            ],
            [
             1,
             "#f0f921"
            ]
           ],
           "sequentialminus": [
            [
             0,
             "#0d0887"
            ],
            [
             0.1111111111111111,
             "#46039f"
            ],
            [
             0.2222222222222222,
             "#7201a8"
            ],
            [
             0.3333333333333333,
             "#9c179e"
            ],
            [
             0.4444444444444444,
             "#bd3786"
            ],
            [
             0.5555555555555556,
             "#d8576b"
            ],
            [
             0.6666666666666666,
             "#ed7953"
            ],
            [
             0.7777777777777778,
             "#fb9f3a"
            ],
            [
             0.8888888888888888,
             "#fdca26"
            ],
            [
             1,
             "#f0f921"
            ]
           ]
          },
          "colorway": [
           "#636efa",
           "#EF553B",
           "#00cc96",
           "#ab63fa",
           "#FFA15A",
           "#19d3f3",
           "#FF6692",
           "#B6E880",
           "#FF97FF",
           "#FECB52"
          ],
          "font": {
           "color": "#2a3f5f"
          },
          "geo": {
           "bgcolor": "white",
           "lakecolor": "white",
           "landcolor": "#E5ECF6",
           "showlakes": true,
           "showland": true,
           "subunitcolor": "white"
          },
          "hoverlabel": {
           "align": "left"
          },
          "hovermode": "closest",
          "mapbox": {
           "style": "light"
          },
          "paper_bgcolor": "white",
          "plot_bgcolor": "#E5ECF6",
          "polar": {
           "angularaxis": {
            "gridcolor": "white",
            "linecolor": "white",
            "ticks": ""
           },
           "bgcolor": "#E5ECF6",
           "radialaxis": {
            "gridcolor": "white",
            "linecolor": "white",
            "ticks": ""
           }
          },
          "scene": {
           "xaxis": {
            "backgroundcolor": "#E5ECF6",
            "gridcolor": "white",
            "gridwidth": 2,
            "linecolor": "white",
            "showbackground": true,
            "ticks": "",
            "zerolinecolor": "white"
           },
           "yaxis": {
            "backgroundcolor": "#E5ECF6",
            "gridcolor": "white",
            "gridwidth": 2,
            "linecolor": "white",
            "showbackground": true,
            "ticks": "",
            "zerolinecolor": "white"
           },
           "zaxis": {
            "backgroundcolor": "#E5ECF6",
            "gridcolor": "white",
            "gridwidth": 2,
            "linecolor": "white",
            "showbackground": true,
            "ticks": "",
            "zerolinecolor": "white"
           }
          },
          "shapedefaults": {
           "line": {
            "color": "#2a3f5f"
           }
          },
          "ternary": {
           "aaxis": {
            "gridcolor": "white",
            "linecolor": "white",
            "ticks": ""
           },
           "baxis": {
            "gridcolor": "white",
            "linecolor": "white",
            "ticks": ""
           },
           "bgcolor": "#E5ECF6",
           "caxis": {
            "gridcolor": "white",
            "linecolor": "white",
            "ticks": ""
           }
          },
          "title": {
           "x": 0.05
          },
          "xaxis": {
           "automargin": true,
           "gridcolor": "white",
           "linecolor": "white",
           "ticks": "",
           "title": {
            "standoff": 15
           },
           "zerolinecolor": "white",
           "zerolinewidth": 2
          },
          "yaxis": {
           "automargin": true,
           "gridcolor": "white",
           "linecolor": "white",
           "ticks": "",
           "title": {
            "standoff": 15
           },
           "zerolinecolor": "white",
           "zerolinewidth": 2
          }
         }
        },
        "title": {
         "text": "Transaction Amount Distribution by Merchant and Fraud Status"
        },
        "xaxis": {
         "anchor": "y",
         "domain": [
          0,
          1
         ],
         "tickangle": 45,
         "title": {
          "text": "hospital_id"
         }
        },
        "yaxis": {
         "anchor": "x",
         "domain": [
          0,
          1
         ],
         "title": {
          "text": "claim_amount"
         }
        }
       }
      }
     },
     "metadata": {},
     "output_type": "display_data"
    }
   ],
   "source": [
    "\n",
    "import plotly.express as px\n",
    "\n",
    "# Create box plot\n",
    "fig = px.box(data, x='hospital_id', y='claim_amount', color='fraud_risk_score', title='Transaction Amount Distribution by Merchant and Fraud Status', color_discrete_map={'Fraud': 'red', 'Non-Fraud': 'blue'})\n",
    "\n",
    "# Update layout\n",
    "fig.update_layout(\n",
    "    xaxis_title=\"hospital_id\",\n",
    "    yaxis_title=\"claim_amount\",\n",
    "    showlegend=True,\n",
    "    xaxis_tickangle=45,\n",
    "    plot_bgcolor='white'\n",
    ")\n",
    "\n",
    "fig.show()"
   ]
  },
  {
   "cell_type": "code",
   "execution_count": null,
   "id": "e074e82c",
   "metadata": {},
   "outputs": [],
   "source": []
  }
 ],
 "metadata": {
  "kernelspec": {
   "display_name": "Python 3",
   "language": "python",
   "name": "python3"
  },
  "language_info": {
   "codemirror_mode": {
    "name": "ipython",
    "version": 3
   },
   "file_extension": ".py",
   "mimetype": "text/x-python",
   "name": "python",
   "nbconvert_exporter": "python",
   "pygments_lexer": "ipython3",
   "version": "3.13.1"
  }
 },
 "nbformat": 4,
 "nbformat_minor": 5
}
